{
 "cells": [
  {
   "cell_type": "markdown",
   "metadata": {},
   "source": [
    "# Mock Assignment\n",
    "\n",
    "\n",
    "Date: Tuesday, October 10th   \n",
    "Time: 1.00pm    \n",
    "Duration: 1 hour 30 minutes"
   ]
  },
  {
   "cell_type": "markdown",
   "metadata": {},
   "source": [
    "## Short Questions \n",
    "(2 points each. Total 10 points)\n",
    "\n",
    "1. What is the Purpose of the assert key word Python?\n",
    "1. Python is not case sensitive. True or False?\n",
    "1. In python how do you calculate x to the power y?\n",
    "1. How do you print all the documentations in a module?\n",
    "1. What is PEP 8?\n"
   ]
  },
  {
   "cell_type": "markdown",
   "metadata": {
    "collapsed": true
   },
   "source": [
    "1. Asset key word is used to test expressions which raise if the expression is false.\n",
    "2. False\n",
    "3. print(x**y)\n",
    "4. \n",
    "5. Style guide for python codes.It's not essential for your code to work, just a good coding practice you should follow. "
   ]
  },
  {
   "cell_type": "markdown",
   "metadata": {},
   "source": [
    "## Short Coding Questions\n",
    "(5 points each. Total 10 points) \n",
    "Note: code must include comments and doc-strings as well as assertions to understand errors.\n",
    "\n",
    "1. Write a function that will return the top (largest) n values of a dictionary. The values, must be sorted by alphabetical/numeric order. The inputs of the function should be any dictionary and n. Hints:\n",
    "    1. Approach 1: You can sort a dict by values using: `df.sort_values(by=[\"col1\"], ascending=[false])`\n",
    "    1. Approach 2: Use `sorted(x.items(), key=operator.itemgetter(1), reverse=False)`\n",
    "1. Given two sorted lists, write a function that will merge them and returns a combined sorted list."
   ]
  },
  {
   "cell_type": "code",
   "execution_count": 53,
   "metadata": {
    "collapsed": true
   },
   "outputs": [],
   "source": [
    "`Insert solutions here`"
   ]
  },
  {
   "cell_type": "markdown",
   "metadata": {},
   "source": [
    "## Modeling coding question\n",
    "(10 points)\n",
    "\n",
    "A statistician fitted a logistic regression model. Given below are the predicted y-values as well as the actual y-values. 1 implies that a patient had a disease and 0 if the patient did not. Create a confusion matrix and interpret your findings."
   ]
  },
  {
   "cell_type": "code",
   "execution_count": 1,
   "metadata": {},
   "outputs": [],
   "source": [
    "# data:\n",
    "actual = [1, 0, 1, 0, 0, 1, 1, 1, 1, 0, 0, 0, 0, 0, 0, 1, 0, 1, 0, 0, 0, 0, 1,\n",
    "       1, 1, 1, 1, 0, 0, 0, 0, 1, 0, 0, 0, 0, 0, 0, 0, 1, 1, 0, 0, 0, 0, 0,\n",
    "       0, 0, 0, 0, 0, 0, 0, 0, 0, 0, 1, 1, 1, 1, 1, 0, 1, 0, 0, 1, 1, 0, 0,\n",
    "       0, 1, 0, 0, 1, 1, 1, 1, 1, 0, 1, 1, 1, 1, 0, 1, 1, 1, 1, 1, 1, 0, 1,\n",
    "       1, 0, 1]\n",
    "\n",
    "\n",
    "predicted = [1, 0, 1, 0, 1, 1, 1, 1, 0, 0, 0, 0, 0, 0, 0, 1, 0, 0, 0, 0, 0, 0, 1,\n",
    "       1, 1, 1, 1, 0, 0, 0, 0, 1, 0, 1, 0, 0, 0, 0, 0, 1, 1, 0, 0, 0, 0, 0,\n",
    "       0, 0, 0, 0, 0, 0, 0, 0, 0, 0, 0, 1, 0, 0, 0, 0, 1, 0, 0, 0, 1, 0, 0,\n",
    "       1, 1, 0, 0, 1, 1, 1, 1, 1, 1, 1, 1, 1, 1, 1, 1, 1, 1, 0, 1, 0, 0, 1,\n",
    "       1, 0, 1]"
   ]
  },
  {
   "cell_type": "code",
   "execution_count": 5,
   "metadata": {},
   "outputs": [
    {
     "data": {
      "text/plain": [
       "<matplotlib.text.Text at 0x9283898>"
      ]
     },
     "execution_count": 5,
     "metadata": {},
     "output_type": "execute_result"
    },
    {
     "data": {
      "image/png": "[encoded data removed]",
      "text/plain": [
       "<matplotlib.figure.Figure at 0x8e0edd8>"
      ]
     },
     "metadata": {},
     "output_type": "display_data"
    }
   ],
   "source": [
    "import sklearn\n",
    "from sklearn.linear_model import LogisticRegression\n",
    "from collections import Counter\n",
    "%matplotlib inline\n",
    "import matplotlib.pyplot as plt\n",
    "\n",
    "\n",
    "cm = sklearn.metrics.confusion_matrix(actual,predicted)\n",
    "plt.matshow(cm, cmap=plt.cm.Blues)\n",
    "plt.title('Confusion Matrix')\n",
    "plt.xticks(range(2))\n",
    "plt.yticks(range(2))\n",
    "plt.colorbar()\n",
    "plt.ylabel('Actual Values')\n",
    "plt.xlabel('Predicted Values')"
   ]
  },
  {
   "cell_type": "markdown",
   "metadata": {},
   "source": [
    "Majority of the respondants who doesn't have the disease are predicted as they don't suffer from the disease. \n",
    "Considewrable amount of the patients who have the disease are predicted that they have the disease. So the test is good. Since it higlighted the main diagonal. "
   ]
  },
  {
   "cell_type": "markdown",
   "metadata": {},
   "source": [
    "## Case study question: Longley's Economic Regression Data\n",
    "(20 points)\n",
    "\n",
    "Longley's Economic Regression Data is a famous data set. The end goal is to understand time-series trends and also to fit a linear regression model to predict employment. __Note: you are not expected to break the data into train and test sets, as there are only 16 years of data points__. Your analysis should include:\n",
    "\n",
    "1. Descriptive analysis of the data\n",
    "1. Model building and interpreting variables\n",
    "\n",
    "The data in mtcars is:\n",
    "1. GNP.deflator: GNP implicit price deflator (1954=100)\n",
    "1. GNP: Gross National Product.\n",
    "1. Unemployed: number of unemployed.\n",
    "1. Armed.Forces: number of people in the armed forces.\n",
    "1. Population: `noninstitutionalized` population ≥ 14 years of age.\n",
    "1. Year: the year (time).\n",
    "1. Employed: number of people employed."
   ]
  },
  {
   "cell_type": "code",
   "execution_count": null,
   "metadata": {
    "collapsed": true
   },
   "outputs": [],
   "source": []
  }
 ],
 "metadata": {
  "kernelspec": {
   "display_name": "Python 3",
   "language": "python",
   "name": "python3"
  },
  "language_info": {
   "codemirror_mode": {
    "name": "ipython",
    "version": 3
   },
   "file_extension": ".py",
   "mimetype": "text/x-python",
   "name": "python",
   "nbconvert_exporter": "python",
   "pygments_lexer": "ipython3",
   "version": "3.6.1"
  }
 },
 "nbformat": 4,
 "nbformat_minor": 2
}
